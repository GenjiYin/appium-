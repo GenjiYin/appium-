{
 "cells": [
  {
   "cell_type": "code",
   "execution_count": null,
   "metadata": {},
   "outputs": [],
   "source": [
    "from appium import webdriver\n",
    "from appium.webdriver.extensions.android.nativekey import AndroidKey"
   ]
  },
  {
   "cell_type": "markdown",
   "metadata": {},
   "source": [
    "### 查看包名和activity\n",
    "### adb shell dumpsys activity recents | find \"intent={\"\n",
    "#### 直接查看\"cmp=\"后面的内容"
   ]
  },
  {
   "cell_type": "code",
   "execution_count": null,
   "metadata": {},
   "outputs": [],
   "source": [
    "desired_caps = {\n",
    "    'platformName':'Android',                  # 被测手机是安卓\n",
    "    'platformVersion':'11',                    # 手机安卓版本\n",
    "    'deviceName':'PCHM30',                     # 设备名, 安卓手机可以随便写, 但不能留空\n",
    "    'appPackage':'tv.danmak.bili',             # 启动APP Package名称\n",
    "    'appActivity':'.ui.splash.SplashActivity',           # 启动Activity名称\n",
    "    'unicodeKeyboard':True,                    # 使用自带输入法, 输入中文时填True\n",
    "    'restKeyboard':True,                       # 执行完程序恢复原来输入法\n",
    "    'noReset':True,                            # 不要重复app(很重要)\n",
    "    'newCommandTimeout':500000,\n",
    "    'automationName':'UiAutomator2'\n",
    "}"
   ]
  },
  {
   "cell_type": "code",
   "execution_count": null,
   "metadata": {},
   "outputs": [],
   "source": [
    "# 连接Appium Server 初始化自动化环境\n",
    "driver = webdriver.Remote('http://localhost:4723/wd/hub', desired_caps)\n",
    "driver.implicitly_wait(10)"
   ]
  },
  {
   "cell_type": "code",
   "execution_count": null,
   "metadata": {},
   "outputs": [],
   "source": []
  }
 ],
 "metadata": {
  "interpreter": {
   "hash": "f23faf4bfe871c203c8bec80520af5927fc7cb1ae3bd834ddf554ee587ad1c05"
  },
  "kernelspec": {
   "display_name": "Python 3.8.5 64-bit",
   "language": "python",
   "name": "python3"
  },
  "language_info": {
   "codemirror_mode": {
    "name": "ipython",
    "version": 3
   },
   "file_extension": ".py",
   "mimetype": "text/x-python",
   "name": "python",
   "nbconvert_exporter": "python",
   "pygments_lexer": "ipython3",
   "version": "3.8.5"
  },
  "orig_nbformat": 4
 },
 "nbformat": 4,
 "nbformat_minor": 2
}
